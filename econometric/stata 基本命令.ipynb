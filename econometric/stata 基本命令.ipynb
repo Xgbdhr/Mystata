{
 "cells": [
  {
   "cell_type": "markdown",
   "metadata": {},
   "source": [
    "# 拿到一个数据集之后……?\n",
    "\n",
    "- 一定不是分析数据、绘图！\n",
    "- 一定不是看统计量（缺失值、最大值、最小值）』\n",
    "\n",
    "# 是什么？\n",
    "\n",
    "- 有多少个变量？\n",
    "- 有多少个观测值？\n",
    "- 符合某些条件的观测值有多少个？\n",
    "- ー人ー条数据？or ー人多条数据？"
   ]
  },
  {
   "cell_type": "code",
   "execution_count": null,
   "metadata": {},
   "outputs": [],
   "source": [
    "1. describe"
   ]
  },
  {
   "cell_type": "code",
   "execution_count": null,
   "metadata": {},
   "outputs": [],
   "source": [
    "2. count [if]"
   ]
  },
  {
   "cell_type": "code",
   "execution_count": null,
   "metadata": {},
   "outputs": [],
   "source": [
    "3. isid"
   ]
  },
  {
   "cell_type": "code",
   "execution_count": null,
   "metadata": {},
   "outputs": [],
   "source": [
    "4. unique\n",
    "\tssc install unique"
   ]
  },
  {
   "cell_type": "code",
   "execution_count": null,
   "metadata": {},
   "outputs": [],
   "source": [
    "5. codebook [varlist] [if] [in] [,option]\n",
    "\t数据字典:变量名 逻辑 第几 自定义"
   ]
  },
  {
   "cell_type": "code",
   "execution_count": null,
   "metadata": {},
   "outputs": [],
   "source": [
    "6. summarize [varlist] [if] [in] [weigt] [,option]\n",
    "\tsumm"
   ]
  },
  {
   "cell_type": "code",
   "execution_count": null,
   "metadata": {},
   "outputs": [],
   "source": [
    "7. histogram varname [if] [in] [weigt] [,[continuous_opts |discrete_opts]options]\n",
    "\t//直方图\n",
    "\thist varname\n",
    "\thist varname,freq\n",
    "\thist varname,by(varname2)\n",
    "\thist varname,normal\n",
    "\t"
   ]
  },
  {
   "cell_type": "code",
   "execution_count": null,
   "metadata": {},
   "outputs": [],
   "source": [
    "8. graph box\n",
    "\tgraph box-and-whisker plot\n",
    "\t"
   ]
  },
  {
   "cell_type": "code",
   "execution_count": null,
   "metadata": {},
   "outputs": [],
   "source": [
    "9. violin plot\n",
    "\tssc install vioplot\n",
    "\t//小提琴图\n",
    "\t"
   ]
  },
  {
   "cell_type": "code",
   "execution_count": null,
   "metadata": {},
   "outputs": [],
   "source": [
    "10.graph query,scheme\n",
    "\tset ...\n",
    "\t"
   ]
  },
  {
   "cell_type": "code",
   "execution_count": null,
   "metadata": {},
   "outputs": [],
   "source": [
    "11.twoway scatter varlist[if] [in] [,option]\n",
    "\t//scatter plot \n",
    "\ttwoway scatter y x\n",
    "\ttwoway scatter y1 y2 y3 ...x\n",
    "\n",
    " // 跟在Command之后的注释\n",
    " *  星号作为一行开头，这一行都是注释\n",
    " /* 两个星号之间加多行注释*/\n",
    " /*\n",
    "\tPorpose     : This do file is used for ...\n",
    "\tAuthor      :\n",
    "\tDate creat  :\n",
    "\tLat modified:\n",
    "\t*/"
   ]
  },
  {
   "cell_type": "code",
   "execution_count": null,
   "metadata": {},
   "outputs": [],
   "source": [
    "12. clear all //Clear all the thing from Stata memory"
   ]
  },
  {
   "cell_type": "code",
   "execution_count": null,
   "metadata": {},
   "outputs": [],
   "source": []
  },
  {
   "cell_type": "code",
   "execution_count": null,
   "metadata": {},
   "outputs": [],
   "source": [
    "13. pwd //Get the current working diretory"
   ]
  },
  {
   "cell_type": "code",
   "execution_count": null,
   "metadata": {},
   "outputs": [],
   "source": [
    "14. cd \"~/documents/Stata\"  //Change to your working directory"
   ]
  },
  {
   "cell_type": "code",
   "execution_count": null,
   "metadata": {},
   "outputs": [],
   "source": [
    "15. log using \"Lecture\",replace //Open a log-file"
   ]
  },
  {
   "cell_type": "code",
   "execution_count": null,
   "metadata": {},
   "outputs": [],
   "source": [
    "116.use auto.dta,clear //Open a new data"
   ]
  },
  {
   "cell_type": "code",
   "execution_count": null,
   "metadata": {},
   "outputs": [],
   "source": [
    "** Some exploratory data analysis using commands we learnt previously\n",
    "sum price\n",
    "codebook mpg\n",
    "corr weight length\n",
    "\n",
    "** Copy from the \"Command\" section or from screen"
   ]
  },
  {
   "cell_type": "code",
   "execution_count": null,
   "metadata": {},
   "outputs": [],
   "source": [
    "17. log close //Close the log-file"
   ]
  }
 ],
 "metadata": {
  "hide_input": false,
  "kernelspec": {
   "display_name": "Python 3",
   "language": "python",
   "name": "python3"
  },
  "toc": {
   "base_numbering": 1,
   "nav_menu": {},
   "number_sections": true,
   "sideBar": true,
   "skip_h1_title": false,
   "title_cell": "Table of Contents",
   "title_sidebar": "Contents",
   "toc_cell": false,
   "toc_position": {},
   "toc_section_display": true,
   "toc_window_display": false
  },
  "varInspector": {
   "cols": {
    "lenName": 16,
    "lenType": 16,
    "lenVar": 40
   },
   "kernels_config": {
    "python": {
     "delete_cmd_postfix": "",
     "delete_cmd_prefix": "del ",
     "library": "var_list.py",
     "varRefreshCmd": "print(var_dic_list())"
    },
    "r": {
     "delete_cmd_postfix": ") ",
     "delete_cmd_prefix": "rm(",
     "library": "var_list.r",
     "varRefreshCmd": "cat(var_dic_list()) "
    }
   },
   "types_to_exclude": [
    "module",
    "function",
    "builtin_function_or_method",
    "instance",
    "_Feature"
   ],
   "window_display": false
  }
 },
 "nbformat": 4,
 "nbformat_minor": 4
}
